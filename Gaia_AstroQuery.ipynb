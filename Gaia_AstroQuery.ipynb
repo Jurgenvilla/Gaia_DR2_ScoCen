{
 "cells": [
  {
   "cell_type": "code",
   "execution_count": 1,
   "metadata": {
    "collapsed": false
   },
   "outputs": [
    {
     "name": "stdout",
     "output_type": "stream",
     "text": [
      "Created TAP+ (v1.0) - Connection:\n",
      "\tHost: gea.esac.esa.int\n",
      "\tUse HTTPS: False\n",
      "\tPort: 80\n",
      "\tSSL Port: 443\n"
     ]
    }
   ],
   "source": [
    "#General packages to perform the Gaia query and write out the values\n",
    "\n",
    "import numpy as np\n",
    "import matplotlib.pyplot as plt\n",
    "from astropy.table import Table\n",
    "from astroquery.gaia import Gaia\n",
    "import os"
   ]
  },
  {
   "cell_type": "code",
   "execution_count": 2,
   "metadata": {
    "collapsed": false
   },
   "outputs": [
    {
     "name": "stdout",
     "output_type": "stream",
     "text": [
      "Retrieving tables...\n",
      "Parsing tables...\n",
      "Done.\n",
      "public.public.dual\n",
      "public.public.hipparcos\n",
      "public.public.hipparcos_newreduction\n",
      "public.public.hubble_sc\n",
      "public.public.igsl_source\n",
      "public.public.igsl_source_catalog_ids\n",
      "public.public.tycho2\n",
      "tap_schema.tap_schema.columns\n",
      "tap_schema.tap_schema.key_columns\n",
      "tap_schema.tap_schema.keys\n",
      "tap_schema.tap_schema.schemas\n",
      "tap_schema.tap_schema.tables\n",
      "gaiadr1.gaiadr1.aux_qso_icrf2_match\n",
      "gaiadr1.gaiadr1.ext_phot_zero_point\n",
      "gaiadr1.gaiadr1.allwise_best_neighbour\n",
      "gaiadr1.gaiadr1.allwise_neighbourhood\n",
      "gaiadr1.gaiadr1.gsc23_best_neighbour\n",
      "gaiadr1.gaiadr1.gsc23_neighbourhood\n",
      "gaiadr1.gaiadr1.ppmxl_best_neighbour\n",
      "gaiadr1.gaiadr1.ppmxl_neighbourhood\n",
      "gaiadr1.gaiadr1.sdss_dr9_best_neighbour\n",
      "gaiadr1.gaiadr1.sdss_dr9_neighbourhood\n",
      "gaiadr1.gaiadr1.tmass_best_neighbour\n",
      "gaiadr1.gaiadr1.tmass_neighbourhood\n",
      "gaiadr1.gaiadr1.ucac4_best_neighbour\n",
      "gaiadr1.gaiadr1.ucac4_neighbourhood\n",
      "gaiadr1.gaiadr1.urat1_best_neighbour\n",
      "gaiadr1.gaiadr1.urat1_neighbourhood\n",
      "gaiadr1.gaiadr1.cepheid\n",
      "gaiadr1.gaiadr1.phot_variable_time_series_gfov\n",
      "gaiadr1.gaiadr1.phot_variable_time_series_gfov_statistical_parameters\n",
      "gaiadr1.gaiadr1.rrlyrae\n",
      "gaiadr1.gaiadr1.variable_summary\n",
      "gaiadr1.gaiadr1.allwise_original_valid\n",
      "gaiadr1.gaiadr1.gsc23_original_valid\n",
      "gaiadr1.gaiadr1.ppmxl_original_valid\n",
      "gaiadr1.gaiadr1.sdssdr9_original_valid\n",
      "gaiadr1.gaiadr1.tmass_original_valid\n",
      "gaiadr1.gaiadr1.ucac4_original_valid\n",
      "gaiadr1.gaiadr1.urat1_original_valid\n",
      "gaiadr1.gaiadr1.gaia_source\n",
      "gaiadr1.gaiadr1.tgas_source\n",
      "gaiadr2.gaiadr2.aux_allwise_agn_gdr2_cross_id\n",
      "gaiadr2.gaiadr2.aux_iers_gdr2_cross_id\n",
      "gaiadr2.gaiadr2.aux_sso_orbit_residuals\n",
      "gaiadr2.gaiadr2.aux_sso_orbits\n",
      "gaiadr2.gaiadr2.dr1_neighbourhood\n",
      "gaiadr2.gaiadr2.allwise_best_neighbour\n",
      "gaiadr2.gaiadr2.allwise_neighbourhood\n",
      "gaiadr2.gaiadr2.apassdr9_best_neighbour\n",
      "gaiadr2.gaiadr2.apassdr9_neighbourhood\n",
      "gaiadr2.gaiadr2.gsc23_best_neighbour\n",
      "gaiadr2.gaiadr2.gsc23_neighbourhood\n",
      "gaiadr2.gaiadr2.hipparcos2_best_neighbour\n",
      "gaiadr2.gaiadr2.hipparcos2_neighbourhood\n",
      "gaiadr2.gaiadr2.panstarrs1_best_neighbour\n",
      "gaiadr2.gaiadr2.panstarrs1_neighbourhood\n",
      "gaiadr2.gaiadr2.ppmxl_best_neighbour\n",
      "gaiadr2.gaiadr2.ppmxl_neighbourhood\n",
      "gaiadr2.gaiadr2.ravedr5_best_neighbour\n",
      "gaiadr2.gaiadr2.ravedr5_neighbourhood\n",
      "gaiadr2.gaiadr2.sdssdr9_best_neighbour\n",
      "gaiadr2.gaiadr2.sdssdr9_neighbourhood\n",
      "gaiadr2.gaiadr2.tmass_best_neighbour\n",
      "gaiadr2.gaiadr2.tmass_neighbourhood\n",
      "gaiadr2.gaiadr2.tycho2_best_neighbour\n",
      "gaiadr2.gaiadr2.tycho2_neighbourhood\n",
      "gaiadr2.gaiadr2.urat1_best_neighbour\n",
      "gaiadr2.gaiadr2.urat1_neighbourhood\n",
      "gaiadr2.gaiadr2.sso_observation\n",
      "gaiadr2.gaiadr2.sso_source\n",
      "gaiadr2.gaiadr2.vari_cepheid\n",
      "gaiadr2.gaiadr2.vari_classifier_class_definition\n",
      "gaiadr2.gaiadr2.vari_classifier_definition\n",
      "gaiadr2.gaiadr2.vari_classifier_result\n",
      "gaiadr2.gaiadr2.vari_long_period_variable\n",
      "gaiadr2.gaiadr2.vari_rotation_modulation\n",
      "gaiadr2.gaiadr2.vari_rrlyrae\n",
      "gaiadr2.gaiadr2.vari_short_timescale\n",
      "gaiadr2.gaiadr2.vari_time_series_statistics\n",
      "gaiadr2.gaiadr2.panstarrs1_original_valid\n",
      "gaiadr2.gaiadr2.gaia_source\n"
     ]
    }
   ],
   "source": [
    "#Checking available tables in Gaia DR2\n",
    "\n",
    "tables = Gaia.load_tables(only_names=True)\n",
    "for table in (tables):\n",
    "    print(table.get_qualified_name())"
   ]
  },
  {
   "cell_type": "code",
   "execution_count": 3,
   "metadata": {
    "collapsed": false,
    "scrolled": false
   },
   "outputs": [
    {
     "name": "stdout",
     "output_type": "stream",
     "text": [
      "Executing Gaia DR2 Query for ScoCen\n",
      "Launched query: 'SELECT gaia.source_id, gaia.ra, gaia.ra_error, gaia.dec, gaia.dec_error, gaia.parallax, gaia.parallax_error, gaia.l, gaia.b, gaia.phot_g_mean_mag+5*log10(gaia.parallax)-10.0 AS g_mag_abs, gaia.bp_rp, gaia.pmra, gaia.pmra_error, gaia.pmdec, gaia.pmdec_error, gaia.phot_bp_mean_mag, gaia.phot_rp_mean_mag, gaia.phot_g_mean_mag, gaia.astrometric_n_good_obs_al, gaia.astrometric_chi2_al, gaia.phot_bp_mean_flux_over_error, gaia.phot_rp_mean_flux_over_error, gaia.phot_bp_rp_excess_factor, gaia.visibility_periods_used, (gaia.astrometric_chi2_al/(gaia.astrometric_n_good_obs_al - 5.0)) AS unit_weight FROM gaiadr2.gaia_source AS gaia WHERE gaia.parallax >= 6.0 AND gaia.parallax <= 12.0 AND gaia.b >= -10.0 AND gaia.b <= 32.0 AND gaia.l >= 285.0 AND gaia.l <= 360.0 AND gaia.pmra < 10.0 AND gaia.pmdec < 30.0 AND (gaia.parallax/gaia.parallax_error) > 20.0 AND gaia.phot_bp_mean_flux_over_error > 10.0 AND gaia.phot_rp_mean_flux_over_error > 10.0 AND gaia.phot_bp_rp_excess_factor > (1.0 + 0.015*power((gaia.phot_bp_mean_mag-gaia.phot_rp_mean_mag),2)) AND gaia.phot_bp_rp_excess_factor < (1.3 + 0.06*power((gaia.phot_bp_mean_mag-gaia.phot_rp_mean_mag),2))'\n",
      "Retrieving async. results...\n"
     ]
    },
    {
     "name": "stderr",
     "output_type": "stream",
     "text": [
      "WARNING: W27: None:3:0: W27: COOSYS deprecated in VOTable 1.2 [astropy.io.votable.tree]\n",
      "WARNING: W35: None:5:0: W35: 'value' attribute required for INFO elements [astropy.io.votable.tree]\n",
      "WARNING: W35: None:6:0: W35: 'value' attribute required for INFO elements [astropy.io.votable.tree]\n",
      "WARNING: W35: None:7:0: W35: 'value' attribute required for INFO elements [astropy.io.votable.tree]\n",
      "WARNING: W35: None:8:0: W35: 'value' attribute required for INFO elements [astropy.io.votable.tree]\n",
      "WARNING: W35: None:10:0: W35: 'value' attribute required for INFO elements [astropy.io.votable.tree]\n",
      "WARNING: W06: None:40:0: W06: Invalid UCD 'phot.color': Unknown word 'phot.color' [astropy.io.votable.tree]\n",
      "WARNING: W50: None:43:0: W50: Invalid unit string 'mas.yr**-1' [astropy.io.votable.tree]\n",
      "WARNING: W50: None:46:0: W50: Invalid unit string 'mas.yr**-1' [astropy.io.votable.tree]\n",
      "WARNING: W50: None:49:0: W50: Invalid unit string 'mas.yr**-1' [astropy.io.votable.tree]\n",
      "WARNING: W50: None:52:0: W50: Invalid unit string 'mas.yr**-1' [astropy.io.votable.tree]\n",
      "WARNING: W06: None:70:0: W06: Invalid UCD 'arith.ratio': Secondary word 'arith.ratio' is not valid as a primary word [astropy.io.votable.tree]\n",
      "WARNING: W06: None:73:0: W06: Invalid UCD 'arith.ratio': Secondary word 'arith.ratio' is not valid as a primary word [astropy.io.votable.tree]\n"
     ]
    },
    {
     "name": "stdout",
     "output_type": "stream",
     "text": [
      "Query finished.\n",
      "Launched query: 'SELECT gaia.source_id, gaia.ra, gaia.ra_error, gaia.dec, gaia.dec_error, gaia.parallax, gaia.parallax_error, gaia.l, gaia.b, gaia.phot_g_mean_mag+5*log10(gaia.parallax)-10.0 AS g_mag_abs, gaia.bp_rp, gaia.pmra, gaia.pmra_error, gaia.pmdec, gaia.pmdec_error, gaia.phot_bp_mean_mag, gaia.phot_rp_mean_mag, gaia.phot_g_mean_mag, gaia.astrometric_n_good_obs_al, gaia.astrometric_chi2_al, gaia.phot_bp_mean_flux_over_error, gaia.phot_rp_mean_flux_over_error, gaia.phot_bp_rp_excess_factor, gaia.visibility_periods_used, (gaia.astrometric_chi2_al/(gaia.astrometric_n_good_obs_al - 5.0)) AS unit_weight FROM gaiadr2.gaia_source AS gaia WHERE gaia.parallax >= 6.0 AND gaia.parallax <= 12.0 AND gaia.b >= -10.0 AND gaia.b <= 32.0 AND gaia.l >= 285.0 AND gaia.l <= 360.0 AND (gaia.parallax/gaia.parallax_error) > 20 AND gaia.phot_bp_mean_flux_over_error > 10 AND gaia.phot_rp_mean_flux_over_error > 10 AND gaia.phot_bp_rp_excess_factor > (1.0 + 0.015*power((gaia.phot_bp_mean_mag-gaia.phot_rp_mean_mag),2)) AND gaia.phot_bp_rp_excess_factor < (1.3 + 0.06*power((gaia.phot_bp_mean_mag-gaia.phot_rp_mean_mag),2))'\n",
      "Retrieving async. results...\n",
      "Query finished.\n"
     ]
    }
   ],
   "source": [
    "#Gaia DR2 ScoCen Query\n",
    "#New columns, cleaned-sample, no TMASS cross-match. \n",
    "\n",
    "#Data_1 Query including a larger field of view, parallax cuts and total proper motion cuts.\n",
    "#Data_2 Query including a larger field of view, and parallax cuts.\n",
    "#Data_3 Query including a larger field of view, and total proper motion cuts.\n",
    "\n",
    "print(\"Executing Gaia DR2 Query for ScoCen\")\n",
    "\n",
    "Data_1 = Gaia.launch_job_async(\"SELECT gaia.source_id, gaia.ra, gaia.ra_error, gaia.dec, gaia.dec_error, gaia.parallax, gaia.parallax_error, gaia.l, gaia.b, gaia.phot_g_mean_mag+5*log10(gaia.parallax)-10.0 AS g_mag_abs, gaia.bp_rp, gaia.pmra, gaia.pmra_error, gaia.pmdec, gaia.pmdec_error, gaia.phot_bp_mean_mag, gaia.phot_rp_mean_mag, gaia.phot_g_mean_mag, gaia.astrometric_n_good_obs_al, gaia.astrometric_chi2_al, gaia.phot_bp_mean_flux_over_error, gaia.phot_rp_mean_flux_over_error, gaia.phot_bp_rp_excess_factor, gaia.visibility_periods_used, (gaia.astrometric_chi2_al/(gaia.astrometric_n_good_obs_al - 5.0)) AS unit_weight FROM gaiadr2.gaia_source AS gaia WHERE gaia.parallax >= 6.0 AND gaia.parallax <= 12.0 AND gaia.b >= -10.0 AND gaia.b <= 32.0 AND gaia.l >= 285.0 AND gaia.l <= 360.0 AND gaia.pmra < 10.0 AND gaia.pmdec < 30.0 AND (gaia.parallax/gaia.parallax_error) > 20.0 AND gaia.phot_bp_mean_flux_over_error > 10.0 AND gaia.phot_rp_mean_flux_over_error > 10.0 AND gaia.phot_bp_rp_excess_factor > (1.0 + 0.015*power((gaia.phot_bp_mean_mag-gaia.phot_rp_mean_mag),2)) AND gaia.phot_bp_rp_excess_factor < (1.3 + 0.06*power((gaia.phot_bp_mean_mag-gaia.phot_rp_mean_mag),2))\", dump_to_file = False)\n",
    "\n",
    "Data_2 = Gaia.launch_job_async(\"SELECT gaia.source_id, gaia.ra, gaia.ra_error, gaia.dec, gaia.dec_error, gaia.parallax, gaia.parallax_error, gaia.l, gaia.b, gaia.phot_g_mean_mag+5*log10(gaia.parallax)-10.0 AS g_mag_abs, gaia.bp_rp, gaia.pmra, gaia.pmra_error, gaia.pmdec, gaia.pmdec_error, gaia.phot_bp_mean_mag, gaia.phot_rp_mean_mag, gaia.phot_g_mean_mag, gaia.astrometric_n_good_obs_al, gaia.astrometric_chi2_al, gaia.phot_bp_mean_flux_over_error, gaia.phot_rp_mean_flux_over_error, gaia.phot_bp_rp_excess_factor, gaia.visibility_periods_used, (gaia.astrometric_chi2_al/(gaia.astrometric_n_good_obs_al - 5.0)) AS unit_weight FROM gaiadr2.gaia_source AS gaia WHERE gaia.parallax >= 6.0 AND gaia.parallax <= 12.0 AND gaia.b >= -10.0 AND gaia.b <= 32.0 AND gaia.l >= 285.0 AND gaia.l <= 360.0 AND (gaia.parallax/gaia.parallax_error) > 20 AND gaia.phot_bp_mean_flux_over_error > 10 AND gaia.phot_rp_mean_flux_over_error > 10 AND gaia.phot_bp_rp_excess_factor > (1.0 + 0.015*power((gaia.phot_bp_mean_mag-gaia.phot_rp_mean_mag),2)) AND gaia.phot_bp_rp_excess_factor < (1.3 + 0.06*power((gaia.phot_bp_mean_mag-gaia.phot_rp_mean_mag),2))\", dump_to_file = False)\n",
    "\n",
    "# Data_3 = Gaia.launch_job_async(\"SELECT gaia.source_id, gaia.ra, gaia.ra_error, gaia.dec, gaia.dec_error, gaia.parallax, gaia.parallax_error, gaia.l, gaia.b, gaia.phot_g_mean_mag+5*log10(gaia.parallax)-10.0 AS g_mag_abs, gaia.bp_rp, gaia.pmra, gaia.pmra_error, gaia.pmdec, gaia.pmdec_error, gaia.phot_bp_mean_mag, gaia.phot_rp_mean_mag, gaia.phot_g_mean_mag, gaia.astrometric_n_good_obs_al, gaia.astrometric_chi2_al, gaia.phot_bp_mean_flux_over_error, gaia.phot_rp_mean_flux_over_error, gaia.phot_bp_rp_excess_factor, gaia.visibility_periods_used, (gaia.astrometric_chi2_al/(gaia.astrometric_n_good_obs_al - 5.0)) AS unit_weight FROM gaiadr2.gaia_source AS gaia WHERE gaia.b >= -10.0 AND gaia.b <= 32.0 AND gaia.l >= 285.0 AND gaia.l <= 360.0 AND gaia.pmra < 10.0 AND gaia.pmdec < 30.0 AND gaia.phot_bp_mean_flux_over_error > 10 AND gaia.phot_rp_mean_flux_over_error > 10 AND gaia.phot_bp_rp_excess_factor > (1.0 + 0.015*power((gaia.phot_bp_mean_mag-gaia.phot_rp_mean_mag),2)) AND gaia.phot_bp_rp_excess_factor < (1.3 + 0.06*power((gaia.phot_bp_mean_mag-gaia.phot_rp_mean_mag),2))\", dump_to_file = False)\n"
   ]
  },
  {
   "cell_type": "code",
   "execution_count": 6,
   "metadata": {
    "collapsed": false
   },
   "outputs": [
    {
     "name": "stdout",
     "output_type": "stream",
     "text": [
      "Getting each column for ScoCen in DR2 with L. Lindegren et al., 2018 constraints\n"
     ]
    }
   ],
   "source": [
    "print(\"Getting each column for ScoCen in DR2 with L. Lindegren et al., 2018 constraints\")\n",
    "\n",
    "Data_1_DR2 = Data_1.get_results()\n",
    "Data_2_DR2 = Data_2.get_results()\n",
    "# Data_3_DR2 = Data_3.get_results()"
   ]
  },
  {
   "cell_type": "code",
   "execution_count": 7,
   "metadata": {
    "collapsed": false
   },
   "outputs": [
    {
     "name": "stdout",
     "output_type": "stream",
     "text": [
      "Saving each column in a CSV file for LCC, UCL and US \n"
     ]
    }
   ],
   "source": [
    "print(\"Saving each column in a CSV file for LCC, UCL and US \")\n",
    "\n",
    "np.savetxt('ScoCen_Parallax_ProperMotion.csv', np.c_[Data_1_DR2[\"source_id\"], Data_1_DR2[\"ra\"], Data_1_DR2[\"ra_error\"],\\\n",
    "                                Data_1_DR2[\"dec\"], Data_1_DR2[\"dec_error\"], Data_1_DR2[\"parallax\"],\\\n",
    "                                Data_1_DR2[\"parallax_error\"], Data_1_DR2[\"l\"], Data_1_DR2[\"b\"],\\\n",
    "                                Data_1_DR2[\"g_mag_abs\"], Data_1_DR2[\"bp_rp\"], Data_1_DR2[\"pmra\"],\\\n",
    "                                Data_1_DR2[\"pmra_error\"], Data_1_DR2[\"pmdec\"], Data_1_DR2[\"pmdec_error\"],\\\n",
    "                                Data_1_DR2[\"phot_bp_mean_mag\"], Data_1_DR2[\"phot_rp_mean_mag\"], Data_1_DR2[\"phot_g_mean_mag\"],\\\n",
    "                                Data_1_DR2[\"astrometric_n_good_obs_al\"], Data_1_DR2[\"astrometric_chi2_al\"], Data_1_DR2[\"phot_bp_mean_flux_over_error\"],\\\n",
    "                                Data_1_DR2[\"phot_rp_mean_flux_over_error\"], Data_1_DR2[\"phot_bp_rp_excess_factor\"],\\\n",
    "                                Data_1_DR2[\"visibility_periods_used\"],\\\n",
    "                                Data_1_DR2[\"unit_weight\"]], delimiter = ',',\\\n",
    "           header = 'source_id,ra,ra_error,dec,dec_error,parallax,parallax_error,l,b,g_mag_abs,bp_rp,pmra,pmra_error,pmdec,pmdec_error, phot_bp_mean_mag, phot_rp_mean_mag, phot_g_mean_mag, astrometric_n_good_obs_al,  astrometric_chi2_al, phot_bp_mean_flux_over_error, phot_rp_mean_flux_over_error, phot_bp_rp_excess_factor, vis_period, unit_weight',\\\n",
    "           fmt = ['%i','%.15f','%.15f','%.15f','%.15f',\\\n",
    "                  '%.15f','%.15f','%.15f','%.15f','%.15f',\\\n",
    "                  '%.15f','%.15f','%.15f','%.15f','%.15f',\\\n",
    "                  '%.15f','%.15f','%.15f','%.15f','%.15f','%.15f','%.15f','%.15f','%.15f','%.15f'])\n",
    "\n",
    "np.savetxt('ScoCen_Parallax.csv', np.c_[Data_2_DR2[\"source_id\"], Data_2_DR2[\"ra\"], Data_2_DR2[\"ra_error\"],\\\n",
    "                                Data_2_DR2[\"dec\"], Data_2_DR2[\"dec_error\"], Data_2_DR2[\"parallax\"],\\\n",
    "                                Data_2_DR2[\"parallax_error\"], Data_2_DR2[\"l\"], Data_2_DR2[\"b\"],\\\n",
    "                                Data_2_DR2[\"g_mag_abs\"], Data_2_DR2[\"bp_rp\"], Data_2_DR2[\"pmra\"],\\\n",
    "                                Data_2_DR2[\"pmra_error\"], Data_2_DR2[\"pmdec\"], Data_2_DR2[\"pmdec_error\"],\\\n",
    "                                Data_2_DR2[\"phot_bp_mean_mag\"], Data_2_DR2[\"phot_rp_mean_mag\"], Data_2_DR2[\"phot_g_mean_mag\"],\\\n",
    "                                Data_2_DR2[\"astrometric_n_good_obs_al\"], Data_2_DR2[\"astrometric_chi2_al\"], Data_2_DR2[\"phot_bp_mean_flux_over_error\"],\\\n",
    "                                Data_2_DR2[\"phot_rp_mean_flux_over_error\"], Data_2_DR2[\"phot_bp_rp_excess_factor\"],\\\n",
    "                                Data_2_DR2[\"visibility_periods_used\"],\\\n",
    "                                Data_2_DR2[\"unit_weight\"]], delimiter = ',',\\\n",
    "           header = 'source_id,ra,ra_error,dec,dec_error,parallax,parallax_error,l,b,g_mag_abs,bp_rp,pmra,pmra_error,pmdec,pmdec_error, phot_bp_mean_mag, phot_rp_mean_mag, phot_g_mean_mag, astrometric_n_good_obs_al,  astrometric_chi2_al, phot_bp_mean_flux_over_error, phot_rp_mean_flux_over_error, phot_bp_rp_excess_factor, vis_period, unit_weight',\\\n",
    "           fmt = ['%i','%.15f','%.15f','%.15f','%.15f',\\\n",
    "                  '%.15f','%.15f','%.15f','%.15f','%.15f',\\\n",
    "                  '%.15f','%.15f','%.15f','%.15f','%.15f',\\\n",
    "                  '%.15f','%.15f','%.15f','%.15f','%.15f','%.15f','%.15f','%.15f','%.15f','%.15f'])\n",
    "\n",
    "# np.savetxt('ScoCen_ProperMotion.csv', np.c_[Data_3_DR2[\"source_id\"], Data_3_DR2[\"ra\"], Data_3_DR2[\"ra_error\"],\\\n",
    "#                                 Data_3_DR2[\"dec\"], Data_3_DR2[\"dec_error\"], Data_3_DR2[\"parallax\"],\\\n",
    "#                                 Data_3_DR2[\"parallax_error\"], Data_3_DR2[\"l\"], Data_3_DR2[\"b\"],\\\n",
    "#                                 Data_3_DR2[\"g_mag_abs\"], Data_3_DR2[\"bp_rp\"], Data_3_DR2[\"pmra\"],\\\n",
    "#                                 Data_3_DR2[\"pmra_error\"], Data_3_DR2[\"pmdec\"], Data_3_DR2[\"pmdec_error\"],\\\n",
    "#                                 Data_3_DR2[\"phot_bp_mean_mag\"], Data_3_DR2[\"phot_rp_mean_mag\"], Data_3_DR2[\"phot_g_mean_mag\"],\\\n",
    "#                                 Data_3_DR2[\"astrometric_n_good_obs_al\"], Data_3_DR2[\"astrometric_chi2_al\"], Data_3_DR2[\"phot_bp_mean_flux_over_error\"],\\\n",
    "#                                 Data_3_DR2[\"phot_rp_mean_flux_over_error\"], Data_3_DR2[\"phot_bp_rp_excess_factor\"],\\\n",
    "#                                 Data_3_DR2[\"visibility_periods_used\"],\\\n",
    "#                                 Data_3_DR2[\"unit_weight\"]], delimiter = ',',\\\n",
    "#            header = 'source_id,ra,ra_error,dec,dec_error,parallax,parallax_error,l,b,g_mag_abs,bp_rp,pmra,pmra_error,pmdec,pmdec_error, phot_bp_mean_mag, phot_rp_mean_mag, phot_g_mean_mag, astrometric_n_good_obs_al,  astrometric_chi2_al, phot_bp_mean_flux_over_error, phot_rp_mean_flux_over_error, phot_bp_rp_excess_factor, vis_period, unit_weight',\\\n",
    "#            fmt = ['%i','%.15f','%.15f','%.15f','%.15f',\\\n",
    "#                   '%.15f','%.15f','%.15f','%.15f','%.15f',\\\n",
    "#                   '%.15f','%.15f','%.15f','%.15f','%.15f',\\\n",
    "#                   '%.15f','%.15f','%.15f','%.15f','%.15f','%.15f','%.15f','%.15f','%.15f','%.15f'])\n"
   ]
  },
  {
   "cell_type": "code",
   "execution_count": 13,
   "metadata": {
    "collapsed": false
   },
   "outputs": [
    {
     "name": "stdout",
     "output_type": "stream",
     "text": [
      "Executing Gaia Query for LCC, UCL and US\n",
      "Launched query: 'SELECT gaia.source_id, gaia.ra, gaia.ra_error, gaia.dec, gaia.dec_error, gaia.parallax, gaia.parallax_error, gaia.l, gaia.b, gaia.phot_g_mean_mag+5*log10(gaia.parallax)-10 AS g_mag_abs, gaia.bp_rp, gaia.pmra, gaia.pmra_error, gaia.pmdec, gaia.pmdec_error, gaia.phot_bp_mean_mag, gaia.phot_rp_mean_mag, gaia.phot_g_mean_mag, gaia.astrometric_n_good_obs_al, gaia.astrometric_chi2_al, gaia.phot_bp_mean_flux_over_error, gaia.phot_rp_mean_flux_over_error, gaia.phot_bp_rp_excess_factor, gaia.visibility_periods_used, (gaia.astrometric_chi2_al/(gaia.astrometric_n_good_obs_al - 5.0)) AS unit_weight FROM gaiadr2.gaia_source AS gaia WHERE gaia.parallax >= 6 AND gaia.parallax <= 12 AND gaia.b >= -10 AND gaia.b <= 32 AND gaia.l >= 285 AND gaia.l <= 313 AND gaia.pmra < 10 AND gaia.pmdec < 30 AND sqrt(power(gaia.pmra,2)+power(gaia.pmdec,2)) > 15 AND sqrt(power(gaia.pmra,2)+power(gaia.pmdec,2)) < 55 AND (gaia.parallax/gaia.parallax_error) > 20 AND gaia.phot_bp_mean_flux_over_error > 10 AND gaia.phot_rp_mean_flux_over_error > 10 AND gaia.phot_bp_rp_excess_factor > (1.0 + 0.015*power((gaia.phot_bp_mean_mag-gaia.phot_rp_mean_mag),2)) AND gaia.phot_bp_rp_excess_factor < (1.3 + 0.06*power((gaia.phot_bp_mean_mag-gaia.phot_rp_mean_mag),2))'\n",
      "Retrieving async. results...\n"
     ]
    },
    {
     "name": "stderr",
     "output_type": "stream",
     "text": [
      "WARNING: W27: None:3:0: W27: COOSYS deprecated in VOTable 1.2 [astropy.io.votable.tree]\n",
      "WARNING: W35: None:5:0: W35: 'value' attribute required for INFO elements [astropy.io.votable.tree]\n",
      "WARNING: W35: None:6:0: W35: 'value' attribute required for INFO elements [astropy.io.votable.tree]\n",
      "WARNING: W35: None:7:0: W35: 'value' attribute required for INFO elements [astropy.io.votable.tree]\n",
      "WARNING: W35: None:8:0: W35: 'value' attribute required for INFO elements [astropy.io.votable.tree]\n",
      "WARNING: W35: None:10:0: W35: 'value' attribute required for INFO elements [astropy.io.votable.tree]\n",
      "WARNING: W06: None:40:0: W06: Invalid UCD 'phot.color': Unknown word 'phot.color' [astropy.io.votable.tree]\n",
      "WARNING: W50: None:43:0: W50: Invalid unit string 'mas.yr**-1' [astropy.io.votable.tree]\n",
      "WARNING: W50: None:46:0: W50: Invalid unit string 'mas.yr**-1' [astropy.io.votable.tree]\n",
      "WARNING: W50: None:49:0: W50: Invalid unit string 'mas.yr**-1' [astropy.io.votable.tree]\n",
      "WARNING: W50: None:52:0: W50: Invalid unit string 'mas.yr**-1' [astropy.io.votable.tree]\n",
      "WARNING: W06: None:70:0: W06: Invalid UCD 'arith.ratio': Secondary word 'arith.ratio' is not valid as a primary word [astropy.io.votable.tree]\n",
      "WARNING: W06: None:73:0: W06: Invalid UCD 'arith.ratio': Secondary word 'arith.ratio' is not valid as a primary word [astropy.io.votable.tree]\n"
     ]
    },
    {
     "name": "stdout",
     "output_type": "stream",
     "text": [
      "Query finished.\n",
      "Launched query: 'SELECT gaia.source_id, gaia.ra, gaia.ra_error, gaia.dec, gaia.dec_error, gaia.parallax, gaia.parallax_error, gaia.l, gaia.b, gaia.phot_g_mean_mag+5*log10(gaia.parallax)-10 AS g_mag_abs, gaia.bp_rp, gaia.pmra, gaia.pmra_error, gaia.pmdec, gaia.pmdec_error, gaia.phot_bp_mean_mag, gaia.phot_rp_mean_mag, gaia.phot_g_mean_mag, gaia.astrometric_n_good_obs_al, gaia.astrometric_chi2_al, gaia.phot_bp_mean_flux_over_error, gaia.phot_rp_mean_flux_over_error, gaia.phot_bp_rp_excess_factor, gaia.visibility_periods_used, (gaia.astrometric_chi2_al/(gaia.astrometric_n_good_obs_al - 5.0)) AS unit_weight FROM gaiadr2.gaia_source AS gaia WHERE gaia.parallax >= 6.0 AND gaia.parallax <= 12 AND gaia.b >= -10 AND gaia.b <= 32 AND gaia.l >= 313 AND gaia.l <= 337 AND gaia.pmra < 10 AND gaia.pmdec < 30 AND sqrt(power(gaia.pmra,2)+power(gaia.pmdec,2)) > 12 AND sqrt(power(gaia.pmra,2)+power(gaia.pmdec,2)) < 55 AND (gaia.parallax/gaia.parallax_error) > 20 AND gaia.phot_bp_mean_flux_over_error > 10 AND gaia.phot_rp_mean_flux_over_error > 10 AND gaia.phot_bp_rp_excess_factor > (1.0 + 0.015*power((gaia.phot_bp_mean_mag-gaia.phot_rp_mean_mag),2)) AND gaia.phot_bp_rp_excess_factor < (1.3 + 0.06*power((gaia.phot_bp_mean_mag-gaia.phot_rp_mean_mag),2))'\n",
      "Retrieving async. results...\n",
      "Query finished.\n",
      "Launched query: 'SELECT gaia.source_id, gaia.ra, gaia.ra_error, gaia.dec, gaia.dec_error, gaia.parallax, gaia.parallax_error, gaia.l, gaia.b, gaia.phot_g_mean_mag+5*log10(gaia.parallax)-10 AS g_mag_abs, gaia.bp_rp, gaia.pmra, gaia.pmra_error, gaia.pmdec, gaia.pmdec_error, gaia.phot_bp_mean_mag, gaia.phot_rp_mean_mag, gaia.phot_g_mean_mag, gaia.astrometric_n_good_obs_al, gaia.astrometric_chi2_al, gaia.phot_bp_mean_flux_over_error, gaia.phot_rp_mean_flux_over_error, gaia.phot_bp_rp_excess_factor, gaia.visibility_periods_used, (gaia.astrometric_chi2_al/(gaia.astrometric_n_good_obs_al - 5.0)) AS unit_weight FROM gaiadr2.gaia_source AS gaia WHERE gaia.parallax >= 6.0 AND gaia.parallax <= 12 AND gaia.b >= -10 AND gaia.b <= 32 AND gaia.l >= 337 AND gaia.l <= 360 AND gaia.pmra < 10 AND gaia.pmdec < 30 AND sqrt(power(gaia.pmra,2)+power(gaia.pmdec,2)) < 47 AND (gaia.parallax/gaia.parallax_error) > 20 AND gaia.phot_bp_mean_flux_over_error > 10 AND gaia.phot_rp_mean_flux_over_error > 10 AND gaia.phot_bp_rp_excess_factor > (1.0 + 0.015*power((gaia.phot_bp_mean_mag-gaia.phot_rp_mean_mag),2)) AND gaia.phot_bp_rp_excess_factor < (1.3 + 0.06*power((gaia.phot_bp_mean_mag-gaia.phot_rp_mean_mag),2))'\n",
      "Retrieving async. results...\n",
      "Query finished.\n"
     ]
    }
   ],
   "source": [
    "#Original cut but increasing the box in each subgroup\n",
    "\n",
    "print(\"Executing Gaia Query for LCC, UCL and US\")\n",
    "\n",
    "LCC_DR2 = Gaia.launch_job_async(\"SELECT gaia.source_id, gaia.ra, gaia.ra_error, gaia.dec, gaia.dec_error, gaia.parallax, gaia.parallax_error, gaia.l, gaia.b, gaia.phot_g_mean_mag+5*log10(gaia.parallax)-10 AS g_mag_abs, gaia.bp_rp, gaia.pmra, gaia.pmra_error, gaia.pmdec, gaia.pmdec_error, gaia.phot_bp_mean_mag, gaia.phot_rp_mean_mag, gaia.phot_g_mean_mag, gaia.astrometric_n_good_obs_al, gaia.astrometric_chi2_al, gaia.phot_bp_mean_flux_over_error, gaia.phot_rp_mean_flux_over_error, gaia.phot_bp_rp_excess_factor, gaia.visibility_periods_used, (gaia.astrometric_chi2_al/(gaia.astrometric_n_good_obs_al - 5.0)) AS unit_weight FROM gaiadr2.gaia_source AS gaia WHERE gaia.parallax >= 6 AND gaia.parallax <= 12 AND gaia.b >= -10 AND gaia.b <= 32 AND gaia.l >= 285 AND gaia.l <= 313 AND gaia.pmra < 10 AND gaia.pmdec < 30 AND sqrt(power(gaia.pmra,2)+power(gaia.pmdec,2)) > 15 AND sqrt(power(gaia.pmra,2)+power(gaia.pmdec,2)) < 55 AND (gaia.parallax/gaia.parallax_error) > 20 AND gaia.phot_bp_mean_flux_over_error > 10 AND gaia.phot_rp_mean_flux_over_error > 10 AND gaia.phot_bp_rp_excess_factor > (1.0 + 0.015*power((gaia.phot_bp_mean_mag-gaia.phot_rp_mean_mag),2)) AND gaia.phot_bp_rp_excess_factor < (1.3 + 0.06*power((gaia.phot_bp_mean_mag-gaia.phot_rp_mean_mag),2))\", dump_to_file = False)\n",
    "\n",
    "UCL_DR2 = Gaia.launch_job_async(\"SELECT gaia.source_id, gaia.ra, gaia.ra_error, gaia.dec, gaia.dec_error, gaia.parallax, gaia.parallax_error, gaia.l, gaia.b, gaia.phot_g_mean_mag+5*log10(gaia.parallax)-10 AS g_mag_abs, gaia.bp_rp, gaia.pmra, gaia.pmra_error, gaia.pmdec, gaia.pmdec_error, gaia.phot_bp_mean_mag, gaia.phot_rp_mean_mag, gaia.phot_g_mean_mag, gaia.astrometric_n_good_obs_al, gaia.astrometric_chi2_al, gaia.phot_bp_mean_flux_over_error, gaia.phot_rp_mean_flux_over_error, gaia.phot_bp_rp_excess_factor, gaia.visibility_periods_used, (gaia.astrometric_chi2_al/(gaia.astrometric_n_good_obs_al - 5.0)) AS unit_weight FROM gaiadr2.gaia_source AS gaia WHERE gaia.parallax >= 6.0 AND gaia.parallax <= 12 AND gaia.b >= -10 AND gaia.b <= 32 AND gaia.l >= 313 AND gaia.l <= 337 AND gaia.pmra < 10 AND gaia.pmdec < 30 AND sqrt(power(gaia.pmra,2)+power(gaia.pmdec,2)) > 12 AND sqrt(power(gaia.pmra,2)+power(gaia.pmdec,2)) < 55 AND (gaia.parallax/gaia.parallax_error) > 20 AND gaia.phot_bp_mean_flux_over_error > 10 AND gaia.phot_rp_mean_flux_over_error > 10 AND gaia.phot_bp_rp_excess_factor > (1.0 + 0.015*power((gaia.phot_bp_mean_mag-gaia.phot_rp_mean_mag),2)) AND gaia.phot_bp_rp_excess_factor < (1.3 + 0.06*power((gaia.phot_bp_mean_mag-gaia.phot_rp_mean_mag),2))\", dump_to_file = False)\n",
    "\n",
    "US_DR2  = Gaia.launch_job_async(\"SELECT gaia.source_id, gaia.ra, gaia.ra_error, gaia.dec, gaia.dec_error, gaia.parallax, gaia.parallax_error, gaia.l, gaia.b, gaia.phot_g_mean_mag+5*log10(gaia.parallax)-10 AS g_mag_abs, gaia.bp_rp, gaia.pmra, gaia.pmra_error, gaia.pmdec, gaia.pmdec_error, gaia.phot_bp_mean_mag, gaia.phot_rp_mean_mag, gaia.phot_g_mean_mag, gaia.astrometric_n_good_obs_al, gaia.astrometric_chi2_al, gaia.phot_bp_mean_flux_over_error, gaia.phot_rp_mean_flux_over_error, gaia.phot_bp_rp_excess_factor, gaia.visibility_periods_used, (gaia.astrometric_chi2_al/(gaia.astrometric_n_good_obs_al - 5.0)) AS unit_weight FROM gaiadr2.gaia_source AS gaia WHERE gaia.parallax >= 6.0 AND gaia.parallax <= 12 AND gaia.b >= -10 AND gaia.b <= 32 AND gaia.l >= 337 AND gaia.l <= 360 AND gaia.pmra < 10 AND gaia.pmdec < 30 AND sqrt(power(gaia.pmra,2)+power(gaia.pmdec,2)) < 47 AND (gaia.parallax/gaia.parallax_error) > 20 AND gaia.phot_bp_mean_flux_over_error > 10 AND gaia.phot_rp_mean_flux_over_error > 10 AND gaia.phot_bp_rp_excess_factor > (1.0 + 0.015*power((gaia.phot_bp_mean_mag-gaia.phot_rp_mean_mag),2)) AND gaia.phot_bp_rp_excess_factor < (1.3 + 0.06*power((gaia.phot_bp_mean_mag-gaia.phot_rp_mean_mag),2))\", dump_to_file = False)\n"
   ]
  },
  {
   "cell_type": "code",
   "execution_count": 14,
   "metadata": {
    "collapsed": true
   },
   "outputs": [],
   "source": [
    "LCC_DR2_1 = LCC_DR2.get_results()\n",
    "UCL_DR2_1 = UCL_DR2.get_results()\n",
    "US_DR2_1  = US_DR2.get_results()"
   ]
  },
  {
   "cell_type": "code",
   "execution_count": 15,
   "metadata": {
    "collapsed": false
   },
   "outputs": [
    {
     "name": "stdout",
     "output_type": "stream",
     "text": [
      "Saving each column in a CSV file for LCC, UCL and US \n"
     ]
    }
   ],
   "source": [
    "print(\"Saving each column in a CSV file for LCC, UCL and US \")\n",
    "\n",
    "np.savetxt('LCC_DR2_Clean_1.csv', np.c_[LCC_DR2_1[\"source_id\"], LCC_DR2_1[\"ra\"], LCC_DR2_1[\"ra_error\"],\\\n",
    "                                LCC_DR2_1[\"dec\"], LCC_DR2_1[\"dec_error\"], LCC_DR2_1[\"parallax\"],\\\n",
    "                                LCC_DR2_1[\"parallax_error\"], LCC_DR2_1[\"l\"], LCC_DR2_1[\"b\"],\\\n",
    "                                LCC_DR2_1[\"g_mag_abs\"], LCC_DR2_1[\"bp_rp\"], LCC_DR2_1[\"pmra\"],\\\n",
    "                                LCC_DR2_1[\"pmra_error\"], LCC_DR2_1[\"pmdec\"], LCC_DR2_1[\"pmdec_error\"],\\\n",
    "                                LCC_DR2_1[\"phot_bp_mean_mag\"], LCC_DR2_1[\"phot_rp_mean_mag\"], LCC_DR2_1[\"phot_g_mean_mag\"],\\\n",
    "                                LCC_DR2_1[\"astrometric_n_good_obs_al\"], LCC_DR2_1[\"astrometric_chi2_al\"], LCC_DR2_1[\"phot_bp_mean_flux_over_error\"],\\\n",
    "                                LCC_DR2_1[\"phot_rp_mean_flux_over_error\"], LCC_DR2_1[\"phot_bp_rp_excess_factor\"],\\\n",
    "                                LCC_DR2_1[\"visibility_periods_used\"],\\\n",
    "                                LCC_DR2_1[\"unit_weight\"]], delimiter = ',',\\\n",
    "           header = 'source_id,ra,ra_error,dec,dec_error,parallax,parallax_error,l,b,g_mag_abs,bp_rp,pmra,pmra_error,pmdec,pmdec_error, phot_bp_mean_mag, phot_rp_mean_mag, phot_g_mean_mag, astrometric_n_good_obs_al,  astrometric_chi2_al, phot_bp_mean_flux_over_error, phot_rp_mean_flux_over_error, phot_bp_rp_excess_factor, vis_period, unit_weight',\\\n",
    "           fmt = ['%i','%.15f','%.15f','%.15f','%.15f',\\\n",
    "                  '%.15f','%.15f','%.15f','%.15f','%.15f',\\\n",
    "                  '%.15f','%.15f','%.15f','%.15f','%.15f',\\\n",
    "                  '%.15f','%.15f','%.15f','%.15f','%.15f','%.15f','%.15f','%.15f','%.15f','%.15f'])\n",
    "\n",
    "np.savetxt('UCL_DR2_Clean_1.csv', np.c_[UCL_DR2_1[\"source_id\"], UCL_DR2_1[\"ra\"], UCL_DR2_1[\"ra_error\"],\\\n",
    "                                UCL_DR2_1[\"dec\"], UCL_DR2_1[\"dec_error\"], UCL_DR2_1[\"parallax\"],\\\n",
    "                                UCL_DR2_1[\"parallax_error\"], UCL_DR2_1[\"l\"], UCL_DR2_1[\"b\"],\\\n",
    "                                UCL_DR2_1[\"g_mag_abs\"], UCL_DR2_1[\"bp_rp\"], UCL_DR2_1[\"pmra\"],\\\n",
    "                                UCL_DR2_1[\"pmra_error\"], UCL_DR2_1[\"pmdec\"], UCL_DR2_1[\"pmdec_error\"],\\\n",
    "                                UCL_DR2_1[\"phot_bp_mean_mag\"], UCL_DR2_1[\"phot_rp_mean_mag\"], UCL_DR2_1[\"phot_g_mean_mag\"],\\\n",
    "                                UCL_DR2_1[\"astrometric_n_good_obs_al\"], UCL_DR2_1[\"astrometric_chi2_al\"], UCL_DR2_1[\"phot_bp_mean_flux_over_error\"],\\\n",
    "                                UCL_DR2_1[\"phot_rp_mean_flux_over_error\"], UCL_DR2_1[\"phot_bp_rp_excess_factor\"],\\\n",
    "                                UCL_DR2_1[\"visibility_periods_used\"],\\\n",
    "                                UCL_DR2_1[\"unit_weight\"]], delimiter = ',',\\\n",
    "           header = 'source_id,ra,ra_error,dec,dec_error,parallax,parallax_error,l,b,g_mag_abs,bp_rp,pmra,pmra_error,pmdec,pmdec_error, phot_bp_mean_mag, phot_rp_mean_mag, phot_g_mean_mag, astrometric_n_good_obs_al,  astrometric_chi2_al, phot_bp_mean_flux_over_error, phot_rp_mean_flux_over_error, phot_bp_rp_excess_factor, vis_period, unit_weight',\\\n",
    "           fmt = ['%i','%.15f','%.15f','%.15f','%.15f',\\\n",
    "                  '%.15f','%.15f','%.15f','%.15f','%.15f',\\\n",
    "                  '%.15f','%.15f','%.15f','%.15f','%.15f',\\\n",
    "                  '%.15f','%.15f','%.15f','%.15f','%.15f','%.15f','%.15f','%.15f','%.15f','%.15f'])\n",
    "\n",
    "np.savetxt('US_DR2_Clean_1.csv', np.c_[US_DR2_1[\"source_id\"], US_DR2_1[\"ra\"], US_DR2_1[\"ra_error\"],\\\n",
    "                                US_DR2_1[\"dec\"], US_DR2_1[\"dec_error\"], US_DR2_1[\"parallax\"],\\\n",
    "                                US_DR2_1[\"parallax_error\"], US_DR2_1[\"l\"], US_DR2_1[\"b\"],\\\n",
    "                                US_DR2_1[\"g_mag_abs\"], US_DR2_1[\"bp_rp\"], US_DR2_1[\"pmra\"],\\\n",
    "                                US_DR2_1[\"pmra_error\"], US_DR2_1[\"pmdec\"], US_DR2_1[\"pmdec_error\"],\\\n",
    "                                US_DR2_1[\"phot_bp_mean_mag\"], US_DR2_1[\"phot_rp_mean_mag\"], US_DR2_1[\"phot_g_mean_mag\"],\\\n",
    "                                US_DR2_1[\"astrometric_n_good_obs_al\"], US_DR2_1[\"astrometric_chi2_al\"], US_DR2_1[\"phot_bp_mean_flux_over_error\"],\\\n",
    "                                US_DR2_1[\"phot_rp_mean_flux_over_error\"], US_DR2_1[\"phot_bp_rp_excess_factor\"],\\\n",
    "                                US_DR2_1[\"visibility_periods_used\"],\\\n",
    "                                US_DR2_1[\"unit_weight\"]], delimiter = ',',\\\n",
    "           header = 'source_id,ra,ra_error,dec,dec_error,parallax,parallax_error,l,b,g_mag_abs,bp_rp,pmra,pmra_error,pmdec,pmdec_error, phot_bp_mean_mag, phot_rp_mean_mag, phot_g_mean_mag, astrometric_n_good_obs_al,  astrometric_chi2_al, phot_bp_mean_flux_over_error, phot_rp_mean_flux_over_error, phot_bp_rp_excess_factor, vis_period, unit_weight',\\\n",
    "           fmt = ['%i','%.15f','%.15f','%.15f','%.15f',\\\n",
    "                  '%.15f','%.15f','%.15f','%.15f','%.15f',\\\n",
    "                  '%.15f','%.15f','%.15f','%.15f','%.15f',\\\n",
    "                  '%.15f','%.15f','%.15f','%.15f','%.15f','%.15f','%.15f','%.15f','%.15f','%.15f'])"
   ]
  },
  {
   "cell_type": "code",
   "execution_count": 2,
   "metadata": {
    "collapsed": false
   },
   "outputs": [
    {
     "data": {
      "text/plain": [
       "0"
      ]
     },
     "execution_count": 2,
     "metadata": {},
     "output_type": "execute_result"
    }
   ],
   "source": [
    "os.system('mv *.csv /disks/strw3/jvilla/Major_JorgeVilla/RNAAS/Data')"
   ]
  },
  {
   "cell_type": "code",
   "execution_count": null,
   "metadata": {
    "collapsed": true
   },
   "outputs": [],
   "source": []
  }
 ],
 "metadata": {
  "kernelspec": {
   "display_name": "Python 3",
   "language": "python",
   "name": "python3"
  },
  "language_info": {
   "codemirror_mode": {
    "name": "ipython",
    "version": 3
   },
   "file_extension": ".py",
   "mimetype": "text/x-python",
   "name": "python",
   "nbconvert_exporter": "python",
   "pygments_lexer": "ipython3",
   "version": "3.6.5"
  }
 },
 "nbformat": 4,
 "nbformat_minor": 2
}
